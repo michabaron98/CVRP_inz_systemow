{
 "cells": [
  {
   "cell_type": "code",
   "execution_count": 1,
   "id": "0fe795d0-5072-4b4a-b937-6ad74c19e6f5",
   "metadata": {},
   "outputs": [],
   "source": [
    "import numpy as np"
   ]
  },
  {
   "cell_type": "code",
   "execution_count": 2,
   "id": "f9ae6f94-3a93-4601-a2c4-13f79341c65b",
   "metadata": {},
   "outputs": [],
   "source": [
    "rnd = np.random\n",
    "rnd.seed(0)"
   ]
  },
  {
   "cell_type": "code",
   "execution_count": 3,
   "id": "d6d2506b-fc7c-4350-bd57-8759e604297b",
   "metadata": {},
   "outputs": [],
   "source": [
    "n = 5 #liczba klientow\n",
    "Q = 20 #pojemnosc pojazdow\n",
    "N = [i for i in range(1, n+1)] #indeksy klinetow\n",
    "V = [0] + N # indeksy pojazdow\n",
    "q = {i: rnd.randint(1, Q+1) for i in N} #zapotrzebowanie klientow"
   ]
  },
  {
   "cell_type": "code",
   "execution_count": 4,
   "id": "6180082c-f512-4af3-9d94-22d2d032909c",
   "metadata": {},
   "outputs": [],
   "source": [
    "loc_x = rnd.rand(len(V))*200\n",
    "loc_y = rnd.rand(len(V))*100"
   ]
  },
  {
   "cell_type": "code",
   "execution_count": 5,
   "id": "10c945a3-b587-430a-ac79-c3c77d5720fa",
   "metadata": {},
   "outputs": [],
   "source": [
    "import matplotlib.pyplot as plt"
   ]
  },
  {
   "cell_type": "code",
   "execution_count": 6,
   "id": "7fce5dcf-31db-4975-a4ee-467d0bcb979a",
   "metadata": {},
   "outputs": [
    {
     "data": {
      "text/plain": [
       "(3.4372078488218136, 177.3557353714919, 31.246203026126295, 86.1012893693383)"
      ]
     },
     "execution_count": 6,
     "metadata": {},
     "output_type": "execute_result"
    },
    {
     "data": {
      "image/png": "[encoded data removed]",
      "text/plain": [
       "<Figure size 432x288 with 1 Axes>"
      ]
     },
     "metadata": {
      "needs_background": "light"
     },
     "output_type": "display_data"
    }
   ],
   "source": [
    "plt.scatter(loc_x[1:], loc_y[1:], c='b')\n",
    "for i in N:\n",
    "    plt.annotate('$q_%d=%d$' % (i, q[i]), (loc_x[i]+2, loc_y[i]))\n",
    "plt.plot(loc_x[0], loc_y[0], c='r', marker='s')\n",
    "plt.axis('equal')"
   ]
  },
  {
   "cell_type": "code",
   "execution_count": 7,
   "id": "bc01f74a-14b6-4a26-9496-a656d237eadf",
   "metadata": {},
   "outputs": [],
   "source": [
    "A = [(i, j) for i in V for j in V if i != j] #zestawienie łuków\n",
    "c = {(i, j): np.hypot(loc_x[i]-loc_x[j], loc_y[i]-loc_y[j]) for i, j in A}#koszt przejazdu"
   ]
  },
  {
   "cell_type": "code",
   "execution_count": 8,
   "id": "943c648d-3697-4516-b114-4ebf34448f18",
   "metadata": {},
   "outputs": [
    {
     "name": "stdout",
     "output_type": "stream",
     "text": [
      "[(0, 1), (0, 2), (0, 3), (0, 4), (0, 5), (1, 0), (1, 2), (1, 3), (1, 4), (1, 5), (2, 0), (2, 1), (2, 3), (2, 4), (2, 5), (3, 0), (3, 1), (3, 2), (3, 4), (3, 5), (4, 0), (4, 1), (4, 2), (4, 3), (4, 5), (5, 0), (5, 1), (5, 2), (5, 3), (5, 4)]\n"
     ]
    }
   ],
   "source": [
    "print(A) #Zestawienie łuków"
   ]
  },
  {
   "cell_type": "code",
   "execution_count": 9,
   "id": "fcdfb0ce-afb2-4279-ab7b-70ab9acff08d",
   "metadata": {},
   "outputs": [
    {
     "name": "stdout",
     "output_type": "stream",
     "text": [
      "{(0, 1): 55.86036399879026, (0, 2): 92.57429501811312, (0, 3): 110.270593126257, (0, 4): 162.11929173663975, (0, 5): 115.77197753649124, (1, 0): 55.86036399879026, (1, 2): 58.23944767385622, (1, 3): 77.52823703144986, (1, 4): 113.39535450847495, (1, 5): 84.73210792591694, (2, 0): 92.57429501811312, (2, 1): 58.23944767385622, (2, 3): 19.435067819237894, (2, 4): 74.58388094238103, (2, 5): 26.506530582876824, (3, 0): 110.270593126257, (3, 1): 77.52823703144986, (3, 2): 19.435067819237894, (3, 4): 65.45912999573686, (3, 5): 7.445550743679192, (4, 0): 162.11929173663975, (4, 1): 113.39535450847495, (4, 2): 74.58388094238103, (4, 3): 65.45912999573686, (4, 5): 65.97047852913248, (5, 0): 115.77197753649124, (5, 1): 84.73210792591694, (5, 2): 26.506530582876824, (5, 3): 7.445550743679192, (5, 4): 65.97047852913248}\n"
     ]
    }
   ],
   "source": [
    "print(c) #macierz kosztow"
   ]
  },
  {
   "cell_type": "code",
   "execution_count": 10,
   "id": "476f1a84-4d82-408d-9458-36fd05c59ca4",
   "metadata": {},
   "outputs": [],
   "source": [
    "from docplex.mp.model import Model"
   ]
  },
  {
   "cell_type": "code",
   "execution_count": 11,
   "id": "d5fac93e-aa70-44b8-b797-a6639ad48880",
   "metadata": {},
   "outputs": [],
   "source": [
    "mdl = Model('CVRP')"
   ]
  },
  {
   "cell_type": "code",
   "execution_count": 12,
   "id": "e37a9b6d-f197-4720-bdf8-c150de86fe98",
   "metadata": {},
   "outputs": [],
   "source": [
    "x = mdl.binary_var_dict(A, name='x')\n",
    "u = mdl.continuous_var_dict(N, ub=Q, name='u')"
   ]
  },
  {
   "cell_type": "code",
   "execution_count": 13,
   "id": "2be6e313-a59b-4fbe-aa1c-c5df460dca50",
   "metadata": {},
   "outputs": [
    {
     "name": "stdout",
     "output_type": "stream",
     "text": [
      "Version identifier: 20.1.0.0 | 2020-11-11 | 9bedb6d68\n",
      "CPXPARAM_Read_DataCheck                          1\n",
      "CPXPARAM_TimeLimit                               15\n",
      "Found incumbent of value 1073.193043 after 0.00 sec. (0.00 ticks)\n",
      "Tried aggregator 2 times.\n",
      "MIP Presolve eliminated 5 rows and 2 columns.\n",
      "MIP Presolve modified 9 coefficients.\n",
      "Aggregator did 9 substitutions.\n",
      "Reduced MIP has 23 rows, 42 columns, and 81 nonzeros.\n",
      "Reduced MIP has 28 binaries, 0 generals, 0 SOSs, and 18 indicators.\n",
      "Presolve time = 0.05 sec. (0.08 ticks)\n",
      "Probing time = 0.00 sec. (0.04 ticks)\n",
      "Tried aggregator 1 time.\n",
      "Detecting symmetries...\n",
      "Reduced MIP has 23 rows, 42 columns, and 81 nonzeros.\n",
      "Reduced MIP has 28 binaries, 0 generals, 0 SOSs, and 18 indicators.\n",
      "Presolve time = 0.00 sec. (0.06 ticks)\n",
      "Probing time = 0.00 sec. (0.04 ticks)\n",
      "Clique table members: 48.\n",
      "MIP emphasis: balance optimality and feasibility.\n",
      "MIP search method: dynamic search.\n",
      "Parallel mode: deterministic, using up to 8 threads.\n",
      "Root relaxation solution time = 0.02 sec. (0.06 ticks)\n",
      "\n",
      "        Nodes                                         Cuts/\n",
      "   Node  Left     Objective  IInf  Best Integer    Best Bound    ItCnt     Gap\n",
      "\n",
      "*     0+    0                         1073.1930        0.0000           100.00%\n",
      "      0     0      277.9787    10     1073.1930      277.9787       10   74.10%\n",
      "*     0+    0                          674.4863      277.9787            58.79%\n",
      "      0     0      354.6811     4      674.4863      Cuts: 23       18   47.41%\n",
      "      0     0      354.6811    12      674.4863      Cuts: 12       24   47.41%\n",
      "*     0+    0                          579.8382      354.6811            38.83%\n",
      "      0     0        cutoff            579.8382      579.8382       24    0.00%\n",
      "Elapsed time = 0.17 sec. (1.17 ticks, tree = 0.01 MB, solutions = 3)\n",
      "\n",
      "Clique cuts applied:  10\n",
      "\n",
      "Root node processing (before b&c):\n",
      "  Real time             =    0.19 sec. (1.17 ticks)\n",
      "Parallel b&c, 8 threads:\n",
      "  Real time             =    0.00 sec. (0.00 ticks)\n",
      "  Sync time (average)   =    0.00 sec.\n",
      "  Wait time (average)   =    0.00 sec.\n",
      "                          ------------\n",
      "Total (root+branch&cut) =    0.19 sec. (1.17 ticks)\n"
     ]
    }
   ],
   "source": [
    "mdl.minimize(mdl.sum(c[i, j]*x[i, j] for i, j in A)) #minimalizowanie kosztu\n",
    "mdl.add_constraints(mdl.sum(x[i, j] for j in V if j != i) == 1 for i in N) #symetryczny CVRP\n",
    "mdl.add_constraints(mdl.sum(x[i, j] for i in V if i != j) == 1 for j in N) #symetryczny CVRP\n",
    "mdl.add_indicator_constraints(mdl.indicator_constraint(x[i, j], u[i]+q[j] == u[j]) for i, j in A if i != 0 and j != 0)\n",
    "mdl.add_constraints(u[i] >= q[i] for i in N)\n",
    "mdl.parameters.timelimit = 15 #parametr czasowy\n",
    "solution = mdl.solve(log_output=True)"
   ]
  },
  {
   "cell_type": "code",
   "execution_count": 14,
   "id": "774f255a-5686-475e-944a-e3681e72cfbd",
   "metadata": {},
   "outputs": [
    {
     "name": "stdout",
     "output_type": "stream",
     "text": [
      "solution for: CVRP\n",
      "objective: 579.838\n",
      "x_0_1=1\n",
      "x_0_2=1\n",
      "x_1_4=1\n",
      "x_2_5=1\n",
      "x_3_0=1\n",
      "x_4_3=1\n",
      "x_5_0=1\n",
      "u_1=15.000\n",
      "u_2=16.000\n",
      "u_3=20.000\n",
      "u_4=19.000\n",
      "u_5=20.000\n",
      "\n"
     ]
    }
   ],
   "source": [
    "print(solution)"
   ]
  },
  {
   "cell_type": "code",
   "execution_count": 15,
   "id": "733a6b63-a616-4c8e-9ad3-7dc413c6fbd7",
   "metadata": {},
   "outputs": [
    {
     "data": {
      "text/plain": [
       "<JobSolveStatus.OPTIMAL_SOLUTION: 2>"
      ]
     },
     "execution_count": 15,
     "metadata": {},
     "output_type": "execute_result"
    }
   ],
   "source": [
    "solution.solve_status"
   ]
  },
  {
   "cell_type": "code",
   "execution_count": 16,
   "id": "858487d6-19f8-4ebd-aebb-a37973cdb055",
   "metadata": {},
   "outputs": [],
   "source": [
    "active_arcs = [a for a in A if x[a].solution_value > 0.9]"
   ]
  },
  {
   "cell_type": "code",
   "execution_count": 17,
   "id": "71dce521-4d9a-44d8-875f-ea0132750b0c",
   "metadata": {},
   "outputs": [
    {
     "data": {
      "text/plain": [
       "(3.4372078488218136, 177.3557353714919, 31.246203026126295, 86.1012893693383)"
      ]
     },
     "execution_count": 17,
     "metadata": {},
     "output_type": "execute_result"
    },
    {
     "data": {
      "image/png": "[encoded data removed]",
      "text/plain": [
       "<Figure size 432x288 with 1 Axes>"
      ]
     },
     "metadata": {
      "needs_background": "light"
     },
     "output_type": "display_data"
    }
   ],
   "source": [
    "plt.scatter(loc_x[1:], loc_y[1:], c='b')\n",
    "for i in N:\n",
    "    plt.annotate('$q_%d=%d$' % (i, q[i]), (loc_x[i]+2, loc_y[i]))\n",
    "for i, j in active_arcs:\n",
    "    plt.plot([loc_x[i], loc_x[j]], [loc_y[i], loc_y[j]], c='g', alpha=0.3)\n",
    "plt.plot(loc_x[0], loc_y[0], c='r', marker='s')\n",
    "plt.axis('equal')\n"
   ]
  },
  {
   "cell_type": "code",
   "execution_count": 17,
   "id": "10e25e96-5800-492e-bfe0-fa271e466f83",
   "metadata": {},
   "outputs": [],
   "source": [
    "#pip install CPLEX"
   ]
  },
  {
   "cell_type": "code",
   "execution_count": null,
   "id": "a4bb3347-b500-4614-937c-9d26315122f9",
   "metadata": {},
   "outputs": [],
   "source": []
  }
 ],
 "metadata": {
  "kernelspec": {
   "display_name": "Python 3",
   "language": "python",
   "name": "python3"
  },
  "language_info": {
   "codemirror_mode": {
    "name": "ipython",
    "version": 3
   },
   "file_extension": ".py",
   "mimetype": "text/x-python",
   "name": "python",
   "nbconvert_exporter": "python",
   "pygments_lexer": "ipython3",
   "version": "3.8.8"
  }
 },
 "nbformat": 4,
 "nbformat_minor": 5
}
