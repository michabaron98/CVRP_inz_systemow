{
 "cells": [
  {
   "cell_type": "code",
   "execution_count": 1,
   "id": "0fe795d0-5072-4b4a-b937-6ad74c19e6f5",
   "metadata": {},
   "outputs": [],
   "source": [
    "import numpy as np"
   ]
  },
  {
   "cell_type": "code",
   "execution_count": 2,
   "id": "f9ae6f94-3a93-4601-a2c4-13f79341c65b",
   "metadata": {},
   "outputs": [],
   "source": [
    "rnd = np.random\n",
    "rnd.seed(0)"
   ]
  },
  {
   "cell_type": "code",
   "execution_count": 3,
   "id": "d6d2506b-fc7c-4350-bd57-8759e604297b",
   "metadata": {},
   "outputs": [],
   "source": [
    "n = 5 #liczba klientow\n",
    "Q = 20 #pojemnosc pojazdow\n",
    "N = [i for i in range(1, n+1)] #indeksy klinetow\n",
    "V = [0] + N # indeksy pojazdow\n",
    "q = {i: rnd.randint(1, 10) for i in N} #zapotrzebowanie klientow"
   ]
  },
  {
   "cell_type": "code",
   "execution_count": 4,
   "id": "6180082c-f512-4af3-9d94-22d2d032909c",
   "metadata": {},
   "outputs": [],
   "source": [
    "loc_x = rnd.rand(len(V))*200\n",
    "loc_y = rnd.rand(len(V))*100"
   ]
  },
  {
   "cell_type": "code",
   "execution_count": 5,
   "id": "10c945a3-b587-430a-ac79-c3c77d5720fa",
   "metadata": {},
   "outputs": [],
   "source": [
    "import matplotlib.pyplot as plt"
   ]
  },
  {
   "cell_type": "code",
   "execution_count": 6,
   "id": "7fce5dcf-31db-4975-a4ee-467d0bcb979a",
   "metadata": {},
   "outputs": [
    {
     "data": {
      "text/plain": [
       "(70.88609134840303, 198.53476451695838, 2.8308029193148236, 96.83246672973996)"
      ]
     },
     "execution_count": 6,
     "metadata": {},
     "output_type": "execute_result"
    },
    {
     "data": {
      "image/png": "[encoded data removed]",
      "text/plain": [
       "<Figure size 432x288 with 1 Axes>"
      ]
     },
     "metadata": {
      "needs_background": "light"
     },
     "output_type": "display_data"
    }
   ],
   "source": [
    "plt.scatter(loc_x[1:], loc_y[1:], c='b')\n",
    "for i in N:\n",
    "    plt.annotate('$q_%d=%d$' % (i, q[i]), (loc_x[i]+2, loc_y[i]))\n",
    "plt.plot(loc_x[0], loc_y[0], c='r', marker='s')\n",
    "plt.axis('equal')"
   ]
  },
  {
   "cell_type": "code",
   "execution_count": 7,
   "id": "bc01f74a-14b6-4a26-9496-a656d237eadf",
   "metadata": {},
   "outputs": [],
   "source": [
    "A = [(i, j) for i in V for j in V if i != j] #zestawienie łuków\n",
    "c = {(i, j): np.hypot(loc_x[i]-loc_x[j], loc_y[i]-loc_y[j]) for i, j in A}#koszt przejazdu"
   ]
  },
  {
   "cell_type": "code",
   "execution_count": 18,
   "id": "943c648d-3697-4516-b114-4ebf34448f18",
   "metadata": {},
   "outputs": [
    {
     "name": "stdout",
     "output_type": "stream",
     "text": [
      "[(0, 1), (0, 2), (0, 3), (0, 4), (0, 5), (1, 0), (1, 2), (1, 3), (1, 4), (1, 5), (2, 0), (2, 1), (2, 3), (2, 4), (2, 5), (3, 0), (3, 1), (3, 2), (3, 4), (3, 5), (4, 0), (4, 1), (4, 2), (4, 3), (4, 5), (5, 0), (5, 1), (5, 2), (5, 3), (5, 4)]\n"
     ]
    }
   ],
   "source": [
    "print(A)"
   ]
  },
  {
   "cell_type": "code",
   "execution_count": 19,
   "id": "fcdfb0ce-afb2-4279-ab7b-70ab9acff08d",
   "metadata": {},
   "outputs": [
    {
     "name": "stdout",
     "output_type": "stream",
     "text": [
      "{(0, 1): 51.63728511124141, (0, 2): 22.540941460809307, (0, 3): 94.5759064155537, (0, 4): 129.8394007303353, (0, 5): 70.91710557145935, (1, 0): 51.63728511124141, (1, 2): 41.84492272352712, (1, 3): 63.18211481021286, (1, 4): 78.32894677407201, (1, 5): 68.6062912533854, (2, 0): 22.540941460809307, (2, 1): 41.84492272352712, (2, 3): 97.62081814421155, (2, 4): 116.36319804717637, (2, 5): 49.29569075264127, (3, 0): 94.5759064155537, (3, 1): 63.18211481021286, (3, 2): 97.62081814421155, (3, 4): 86.65715984624178, (3, 5): 131.78129837255503, (4, 0): 129.8394007303353, (4, 1): 78.32894677407201, (4, 2): 116.36319804717637, (4, 3): 86.65715984624178, (4, 5): 116.05540700832415, (5, 0): 70.91710557145935, (5, 1): 68.6062912533854, (5, 2): 49.29569075264127, (5, 3): 131.78129837255503, (5, 4): 116.05540700832415}\n"
     ]
    }
   ],
   "source": [
    "print(c)"
   ]
  },
  {
   "cell_type": "code",
   "execution_count": 9,
   "id": "476f1a84-4d82-408d-9458-36fd05c59ca4",
   "metadata": {},
   "outputs": [],
   "source": [
    "from docplex.mp.model import Model"
   ]
  },
  {
   "cell_type": "code",
   "execution_count": 10,
   "id": "d5fac93e-aa70-44b8-b797-a6639ad48880",
   "metadata": {},
   "outputs": [],
   "source": [
    "mdl = Model('CVRP')"
   ]
  },
  {
   "cell_type": "code",
   "execution_count": 11,
   "id": "e37a9b6d-f197-4720-bdf8-c150de86fe98",
   "metadata": {},
   "outputs": [],
   "source": [
    "x = mdl.binary_var_dict(A, name='x')\n",
    "u = mdl.continuous_var_dict(N, ub=Q, name='u')"
   ]
  },
  {
   "cell_type": "code",
   "execution_count": 12,
   "id": "2be6e313-a59b-4fbe-aa1c-c5df460dca50",
   "metadata": {},
   "outputs": [
    {
     "name": "stdout",
     "output_type": "stream",
     "text": [
      "Version identifier: 20.1.0.0 | 2020-11-11 | 9bedb6d68\n",
      "CPXPARAM_Read_DataCheck                          1\n",
      "CPXPARAM_TimeLimit                               15\n",
      "Found incumbent of value 739.021279 after 0.00 sec. (0.00 ticks)\n",
      "Tried aggregator 2 times.\n",
      "MIP Presolve eliminated 5 rows and 0 columns.\n",
      "MIP Presolve modified 10 coefficients.\n",
      "Aggregator did 10 substitutions.\n",
      "Reduced MIP has 20 rows, 45 columns, and 80 nonzeros.\n",
      "Reduced MIP has 30 binaries, 0 generals, 0 SOSs, and 20 indicators.\n",
      "Presolve time = 0.02 sec. (0.09 ticks)\n",
      "Probing time = 0.00 sec. (0.04 ticks)\n",
      "Tried aggregator 1 time.\n",
      "Detecting symmetries...\n",
      "Reduced MIP has 20 rows, 45 columns, and 80 nonzeros.\n",
      "Reduced MIP has 30 binaries, 0 generals, 0 SOSs, and 20 indicators.\n",
      "Presolve time = 0.02 sec. (0.06 ticks)\n",
      "Probing time = 0.00 sec. (0.04 ticks)\n",
      "Clique table members: 20.\n",
      "MIP emphasis: balance optimality and feasibility.\n",
      "MIP search method: dynamic search.\n",
      "Parallel mode: deterministic, using up to 8 threads.\n",
      "Root relaxation solution time = 0.00 sec. (0.04 ticks)\n",
      "\n",
      "        Nodes                                         Cuts/\n",
      "   Node  Left     Objective  IInf  Best Integer    Best Bound    ItCnt     Gap\n",
      "\n",
      "*     0+    0                          739.0213        0.0000           100.00%\n",
      "      0     0      326.7596     5      739.0213      326.7596        9   55.78%\n",
      "      0     0      333.0612     3      739.0213      Cuts: 11       13   54.93%\n",
      "      0     0      353.1712     8      739.0213       Cuts: 8       22   52.21%\n",
      "      0     0      353.1712    13      739.0213       Cuts: 7       26   52.21%\n",
      "*     0+    0                          474.0697      353.1712            25.50%\n",
      "      0     0      357.0353     5      474.0697   ZeroHalf: 1       28   24.69%\n",
      "      0     0      357.0353     5      474.0697      Cuts: 11       29   24.69%\n",
      "Detecting symmetries...\n",
      "*     0+    0                          453.9530      357.0353            21.35%\n",
      "      0     0        cutoff            453.9530      453.9530       29    0.00%\n",
      "Elapsed time = 0.22 sec. (1.19 ticks, tree = 0.01 MB, solutions = 3)\n",
      "\n",
      "Clique cuts applied:  2\n",
      "Implied bound cuts applied:  5\n",
      "Zero-half cuts applied:  1\n",
      "\n",
      "Root node processing (before b&c):\n",
      "  Real time             =    0.23 sec. (1.19 ticks)\n",
      "Parallel b&c, 8 threads:\n",
      "  Real time             =    0.00 sec. (0.00 ticks)\n",
      "  Sync time (average)   =    0.00 sec.\n",
      "  Wait time (average)   =    0.00 sec.\n",
      "                          ------------\n",
      "Total (root+branch&cut) =    0.23 sec. (1.19 ticks)\n"
     ]
    }
   ],
   "source": [
    "mdl.minimize(mdl.sum(c[i, j]*x[i, j] for i, j in A))\n",
    "mdl.add_constraints(mdl.sum(x[i, j] for j in V if j != i) == 1 for i in N)\n",
    "mdl.add_constraints(mdl.sum(x[i, j] for i in V if i != j) == 1 for j in N)\n",
    "mdl.add_indicator_constraints(mdl.indicator_constraint(x[i, j], u[i]+q[j] == u[j]) for i, j in A if i != 0 and j != 0)\n",
    "mdl.add_constraints(u[i] >= q[i] for i in N)\n",
    "mdl.parameters.timelimit = 15\n",
    "solution = mdl.solve(log_output=True)"
   ]
  },
  {
   "cell_type": "code",
   "execution_count": 13,
   "id": "774f255a-5686-475e-944a-e3681e72cfbd",
   "metadata": {},
   "outputs": [
    {
     "name": "stdout",
     "output_type": "stream",
     "text": [
      "solution for: CVRP\n",
      "objective: 453.953\n",
      "x_0_1=1\n",
      "x_0_2=1\n",
      "x_1_4=1\n",
      "x_2_5=1\n",
      "x_3_0=1\n",
      "x_4_3=1\n",
      "x_5_0=1\n",
      "u_1=6.000\n",
      "u_2=1.000\n",
      "u_3=14.000\n",
      "u_4=10.000\n",
      "u_5=9.000\n",
      "\n"
     ]
    }
   ],
   "source": [
    "print(solution)"
   ]
  },
  {
   "cell_type": "code",
   "execution_count": 14,
   "id": "733a6b63-a616-4c8e-9ad3-7dc413c6fbd7",
   "metadata": {},
   "outputs": [
    {
     "data": {
      "text/plain": [
       "<JobSolveStatus.OPTIMAL_SOLUTION: 2>"
      ]
     },
     "execution_count": 14,
     "metadata": {},
     "output_type": "execute_result"
    }
   ],
   "source": [
    "solution.solve_status"
   ]
  },
  {
   "cell_type": "code",
   "execution_count": 15,
   "id": "858487d6-19f8-4ebd-aebb-a37973cdb055",
   "metadata": {},
   "outputs": [],
   "source": [
    "active_arcs = [a for a in A if x[a].solution_value > 0.9]"
   ]
  },
  {
   "cell_type": "code",
   "execution_count": 16,
   "id": "71dce521-4d9a-44d8-875f-ea0132750b0c",
   "metadata": {},
   "outputs": [
    {
     "data": {
      "text/plain": [
       "(70.88609134840303, 198.53476451695838, 2.8308029193148236, 96.83246672973996)"
      ]
     },
     "execution_count": 16,
     "metadata": {},
     "output_type": "execute_result"
    },
    {
     "data": {
      "image/png": "[encoded data removed]",
      "text/plain": [
       "<Figure size 432x288 with 1 Axes>"
      ]
     },
     "metadata": {
      "needs_background": "light"
     },
     "output_type": "display_data"
    }
   ],
   "source": [
    "plt.scatter(loc_x[1:], loc_y[1:], c='b')\n",
    "for i in N:\n",
    "    plt.annotate('$q_%d=%d$' % (i, q[i]), (loc_x[i]+2, loc_y[i]))\n",
    "for i, j in active_arcs:\n",
    "    plt.plot([loc_x[i], loc_x[j]], [loc_y[i], loc_y[j]], c='g', alpha=0.3)\n",
    "plt.plot(loc_x[0], loc_y[0], c='r', marker='s')\n",
    "plt.axis('equal')\n"
   ]
  },
  {
   "cell_type": "code",
   "execution_count": 17,
   "id": "10e25e96-5800-492e-bfe0-fa271e466f83",
   "metadata": {},
   "outputs": [],
   "source": [
    "#pip install CPLEX"
   ]
  },
  {
   "cell_type": "code",
   "execution_count": null,
   "id": "a4bb3347-b500-4614-937c-9d26315122f9",
   "metadata": {},
   "outputs": [],
   "source": []
  }
 ],
 "metadata": {
  "kernelspec": {
   "display_name": "Python 3",
   "language": "python",
   "name": "python3"
  },
  "language_info": {
   "codemirror_mode": {
    "name": "ipython",
    "version": 3
   },
   "file_extension": ".py",
   "mimetype": "text/x-python",
   "name": "python",
   "nbconvert_exporter": "python",
   "pygments_lexer": "ipython3",
   "version": "3.8.8"
  }
 },
 "nbformat": 4,
 "nbformat_minor": 5
}
